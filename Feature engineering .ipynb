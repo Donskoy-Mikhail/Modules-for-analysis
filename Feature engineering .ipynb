{
 "cells": [
  {
   "cell_type": "code",
   "execution_count": 14,
   "id": "9282aef7",
   "metadata": {},
   "outputs": [],
   "source": [
    "import pandas as pd\n",
    "import numpy as np\n",
    "import datetime\n",
    "import seaborn as sns\n",
    "import matplotlib.pyplot as plt\n",
    "import matplotlib.pyplot as plt\n",
    "from scipy.stats import skew\n",
    "from sklearn.model_selection import train_test_split\n",
    "from sklearn.feature_extraction.text import TfidfTransformer, CountVectorizer, TfidfVectorizer\n",
    "from nltk.corpus import stopwords\n",
    "from nltk.stem import PorterStemmer\n",
    "import nltk\n",
    "import re\n",
    "import pymorphy2\n",
    "from scipy.stats.stats import pearsonr\n",
    "from sklearn.metrics import mean_squared_error, make_scorer"
   ]
  },
  {
   "cell_type": "markdown",
   "id": "ad464520-8ac6-4c4e-ab3e-781c6e7ef18e",
   "metadata": {},
   "source": [
    "# Обычные преобразования"
   ]
  },
  {
   "cell_type": "code",
   "execution_count": 4,
   "id": "e911e944",
   "metadata": {},
   "outputs": [],
   "source": [
    "def combinations_two_features(df, couple_columns):\n",
    "    for couple in couple_columns:\n",
    "        df[couple[0] + \"*\" + couple[1]] = df[couple[0]] * df[couple[1]]\n",
    "    return df"
   ]
  },
  {
   "cell_type": "code",
   "execution_count": 5,
   "id": "db26fa13",
   "metadata": {},
   "outputs": [],
   "source": [
    "def polynomials(df, list_columns, degree):\n",
    "    for col in list_columns:\n",
    "        df[col + f\"_s{degree}\"] = df[col] * degree\n",
    "    return df"
   ]
  },
  {
   "cell_type": "code",
   "execution_count": 7,
   "id": "07ebc29f",
   "metadata": {},
   "outputs": [],
   "source": [
    "def log_skew_columns(data, col_list, skew_coef):\n",
    "    skewed_feats = data[col_list].apply(lambda x: skew(x.dropna())) #compute skewness\n",
    "    skewed_feats = skewed_feats[skewed_feats > skew_coef]\n",
    "    skewed_feats = skewed_feats.index\n",
    "    data[skewed_feats] = np.log1p(data[skewed_feats])\n",
    "    return data"
   ]
  },
  {
   "cell_type": "markdown",
   "id": "979c68f7-4e3e-4045-b03a-5fe4b04f8018",
   "metadata": {},
   "source": [
    "# Количество пустых полей"
   ]
  },
  {
   "cell_type": "code",
   "execution_count": 13,
   "id": "b0c0a615",
   "metadata": {},
   "outputs": [],
   "source": [
    "def count_null_fields_tech(data,  cols, name_null_count = \"null_count\"):\n",
    "    data[name_null_count] = [0] * len(data)\n",
    "    \n",
    "    for col in cols:\n",
    "        data[name_null_count] =data[name_null_count] + data[col].apply(lambda x:  1 if pd.isna(x) else 0)  \n",
    "    return data"
   ]
  },
  {
   "cell_type": "markdown",
   "id": "84815619-3857-47ad-b4b2-24512c39c2ae",
   "metadata": {},
   "source": [
    "# Количествое заявок"
   ]
  },
  {
   "cell_type": "code",
   "execution_count": null,
   "id": "214a2226",
   "metadata": {},
   "outputs": [],
   "source": [
    "rec_df_train = train.id_client.value_counts().reset_index()\n",
    "rec_df_test = test.id_client.value_counts().reset_index()\n",
    "\n",
    "\n",
    "def is_rec_num_client_fit_transform(data, id_field = \"id_client\"):\n",
    "    def rec_(x,rec_df):\n",
    "        try:\n",
    "            if rec_df[rec_df[\"index\"]== int(x)].iloc[0,1] == 1:\n",
    "                return 0\n",
    "            elif rec_df[rec_df[\"index\"]== int(x)].iloc[0,1] > 1:\n",
    "                return rec_df[rec_df[\"index\"]== int(x)].iloc[0,1]\n",
    "        except:\n",
    "            return 0\n",
    "    rec_df = data[id_field].value_counts().reset_index()\n",
    "    data[\"num_appli\"] = data[id_field].apply(lambda x: rec_(int(x), rec_df))\n",
    "    return data\n",
    "\n",
    "def is_rec_num_client_transform(data, rec_df, id_field = \"id_client\"):\n",
    "    def rec_(x,rec_df):\n",
    "        try:\n",
    "            if rec_df[rec_df[\"index\"]== int(x)].iloc[0,1] == 1:\n",
    "                return 0\n",
    "            elif rec_df[rec_df[\"index\"]== int(x)].iloc[0,1] > 1:\n",
    "                return rec_df[rec_df[\"index\"]== int(x)].iloc[0,1]\n",
    "        except:\n",
    "            return 0\n",
    "    \n",
    "    data[\"num_appli\"] = data[id_field].apply(lambda x: rec_(int(x), rec_df))\n",
    "    return data\n",
    "\n",
    "def smart_concat(rec_df_train, rec_df_test):\n",
    "    def add_rec_df_train(x, list_rec, rec_df_train, rec_df_test ):\n",
    "        if x in list_rec:\n",
    "            return rec_df_train[rec_df_train[\"index\"]== x].iloc[0,1] + rec_df_test[rec_df_test[\"index\"]== x].iloc[0,1]\n",
    "        else:\n",
    "            return  rec_df_train[rec_df_train[\"index\"]== x].iloc[0,1] \n",
    "    list_rec_test = rec_df_test[\"index\"].to_list()\n",
    "    list_rec_train = rec_df_train[\"index\"].to_list()\n",
    "    \n",
    "    rec_df_test[\"id_client\"] = rec_df_test[\"index\"].apply(lambda x: add_rec_df_train(x,list_rec_train, rec_df_test, rec_df_train))\n",
    "    \n",
    "    return rec_df_test"
   ]
  },
  {
   "cell_type": "markdown",
   "id": "475bbbb7-112b-497b-acc3-3cf070c9f760",
   "metadata": {},
   "source": [
    "# Повторный ли клиент"
   ]
  },
  {
   "cell_type": "code",
   "execution_count": null,
   "id": "a5d06ffa-82d9-4306-adc6-fc7a28863882",
   "metadata": {},
   "outputs": [],
   "source": [
    "def is_rec_client_fit_transform(data, id_field = \"id_client\"):\n",
    "    def rec_(x,rec_df):\n",
    "        try:\n",
    "            if rec_df[rec_df[\"index\"]== int(x)].iloc[0,1] == 1:\n",
    "                return 0\n",
    "            elif rec_df[rec_df[\"index\"]== int(x)].iloc[0,1] > 1:\n",
    "                return 1\n",
    "        except:\n",
    "            return 0\n",
    "    rec_df = data[id_field].value_counts().reset_index()\n",
    "    data[\"is_rec\"] = data[id_field].apply(lambda x: rec_(int(x), rec_df))\n",
    "    return data\n",
    "\n",
    "def is_rec_client_transform(data, rec_df, id_field = \"id_client\"):\n",
    "    def rec_(x,rec_df):\n",
    "        try:\n",
    "            if rec_df[rec_df[\"index\"]== int(x)].iloc[0,1] == 1:\n",
    "                return 0\n",
    "            elif rec_df[rec_df[\"index\"]== int(x)].iloc[0,1] > 1:\n",
    "                return 1\n",
    "        except:\n",
    "            return 0\n",
    "    \n",
    "    data[\"is_rec\"] = data[id_field].apply(lambda x: rec_(int(x), rec_df))\n",
    "    return data"
   ]
  }
 ],
 "metadata": {
  "kernelspec": {
   "display_name": "Python 3 (ipykernel)",
   "language": "python",
   "name": "python3"
  },
  "language_info": {
   "codemirror_mode": {
    "name": "ipython",
    "version": 3
   },
   "file_extension": ".py",
   "mimetype": "text/x-python",
   "name": "python",
   "nbconvert_exporter": "python",
   "pygments_lexer": "ipython3",
   "version": "3.9.9"
  }
 },
 "nbformat": 4,
 "nbformat_minor": 5
}

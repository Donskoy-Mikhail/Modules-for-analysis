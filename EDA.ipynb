{
 "cells": [
  {
   "cell_type": "code",
   "execution_count": 1,
   "id": "44052886",
   "metadata": {},
   "outputs": [],
   "source": [
    "import pandas as pd\n",
    "import numpy as np\n",
    "import datetime\n",
    "import seaborn as sns\n",
    "from scipy import stats\n",
    "import matplotlib.pyplot as plt"
   ]
  },
  {
   "cell_type": "code",
   "execution_count": null,
   "id": "a7533650",
   "metadata": {},
   "outputs": [],
   "source": [
    "data[num_value].describe()"
   ]
  },
  {
   "cell_type": "code",
   "execution_count": null,
   "id": "0c231956",
   "metadata": {},
   "outputs": [],
   "source": [
    "#histogram\n",
    "sns.distplot(data[num_value]);"
   ]
  },
  {
   "cell_type": "code",
   "execution_count": null,
   "id": "efee708a",
   "metadata": {},
   "outputs": [],
   "source": [
    "print(\"Skewness: %f\" % data[num_value].skew())\n",
    "print(\"Kurtosis: %f\" % data[num_value].kurt())"
   ]
  },
  {
   "cell_type": "code",
   "execution_count": null,
   "id": "06c8c0b9",
   "metadata": {},
   "outputs": [],
   "source": [
    "data.plot.scatter(x='num_col', y='num_col', ylim=(0,800000));"
   ]
  },
  {
   "cell_type": "code",
   "execution_count": null,
   "id": "5277406d",
   "metadata": {},
   "outputs": [],
   "source": [
    "f, ax = plt.subplots(figsize=(8, 6))\n",
    "fig = sns.boxplot(x=\"cat_col\", y=\"num_col\", data=data)\n",
    "# Поворот лейблов на 90\n",
    "# plt.xticks(rotation=90);"
   ]
  },
  {
   "cell_type": "code",
   "execution_count": null,
   "id": "97972cc1",
   "metadata": {},
   "outputs": [],
   "source": [
    "sns.pairplot(df_train[cols], size = 2.5)\n",
    "plt.show();"
   ]
  },
  {
   "cell_type": "code",
   "execution_count": 2,
   "id": "74326718",
   "metadata": {},
   "outputs": [],
   "source": [
    "def missing_percent(data):\n",
    "    total = data.isnull().sum().sort_values(ascending=False)\n",
    "    percent = (data.isnull().sum()/data.isnull().count()).sort_values(ascending=False)\n",
    "    missing_data = pd.concat([total, percent], axis=1, keys=['Total', 'Percent'])\n",
    "    missing_data\n",
    "\n",
    "def missing_plot(data)    \n",
    "    missing = data.isnull().sum()\n",
    "    missing = missing[missing > 0]\n",
    "    missing.sort_values(inplace=True)\n",
    "    missing.plot.bar()"
   ]
  },
  {
   "cell_type": "code",
   "execution_count": 4,
   "id": "93b49fa0",
   "metadata": {},
   "outputs": [],
   "source": [
    "def compare_our_to_norm(data, num_col):\n",
    "    sns.distplot(data[num_col], fit=norm);\n",
    "    fig = plt.figure()\n",
    "    res = stats.probplot(data[num_col], plot=plt)"
   ]
  },
  {
   "cell_type": "code",
   "execution_count": null,
   "id": "03fd0d43",
   "metadata": {},
   "outputs": [],
   "source": []
  },
  {
   "cell_type": "code",
   "execution_count": 5,
   "id": "2a2c2df3",
   "metadata": {},
   "outputs": [],
   "source": [
    "def plot_res_pred(X_train, y_train, X_test, y_test, regress_model):\n",
    "    scorer = make_scorer(mean_squared_error, greater_is_better = False)\n",
    "\n",
    "    def rmse_cv_train(model):\n",
    "        rmse= np.sqrt(-cross_val_score(model, X_train, y_train, scoring = scorer, cv = 10))\n",
    "        return(rmse)\n",
    "\n",
    "    def rmse_cv_test(model):\n",
    "        rmse= np.sqrt(-cross_val_score(model, X_test, y_test, scoring = scorer, cv = 10))\n",
    "        return(rmse)\n",
    "    # Linear Regression\n",
    "    regress_model.fit(X_train, y_train)\n",
    "\n",
    "    # Look at predictions on training and validation set\n",
    "    print(\"Metrics on Training set :\", rmse_cv_train(regress_model).mean())\n",
    "    print(\"Metrics on Test set :\", rmse_cv_test(regress_model).mean())\n",
    "    y_train_pred = regress_model.predict(X_train)\n",
    "    y_test_pred = regress_model.predict(X_test)\n",
    "\n",
    "    # Plot residuals\n",
    "    plt.scatter(y_train_pred, y_train_pred - y_train, c = \"blue\", marker = \"s\", label = \"Training data\")\n",
    "    plt.scatter(y_test_pred, y_test_pred - y_test, c = \"lightgreen\", marker = \"s\", label = \"Validation data\")\n",
    "    plt.title(\"Model regression\")\n",
    "    plt.xlabel(\"Predicted values\")\n",
    "    plt.ylabel(\"Residuals\")\n",
    "    plt.legend(loc = \"upper left\")\n",
    "    plt.show()\n",
    "\n",
    "    # Plot predictions\n",
    "    plt.scatter(y_train_pred, y_train, c = \"blue\", marker = \"s\", label = \"Training data\")\n",
    "    plt.scatter(y_test_pred, y_test, c = \"lightgreen\", marker = \"s\", label = \"Validation data\")\n",
    "    plt.title(\"Linear regression\")\n",
    "    plt.xlabel(\"Predicted values\")\n",
    "    plt.ylabel(\"Real values\")\n",
    "    plt.legend(loc = \"upper left\")\n",
    "    plt.show()\n",
    "    \n",
    "def get_coef_from_linear(model, data):\n",
    "    coefs = pd.Series(model.coef_, index = data.columns)\n",
    "    print(\"Ridge picked \" + str(sum(coefs != 0)) + \" features and eliminated the other \" +  \\\n",
    "          str(sum(coefs == 0)) + \" features\")\n",
    "    imp_coefs = pd.concat([coefs.sort_values().head(10),\n",
    "                         coefs.sort_values().tail(10)])\n",
    "    imp_coefs.plot(kind = \"barh\")\n",
    "    plt.title(\"Coefficients in the Ridge Model\")\n",
    "    plt.show()    "
   ]
  },
  {
   "cell_type": "code",
   "execution_count": null,
   "id": "6bb8acef",
   "metadata": {},
   "outputs": [],
   "source": []
  }
 ],
 "metadata": {
  "kernelspec": {
   "display_name": "Python 3 (ipykernel)",
   "language": "python",
   "name": "python3"
  },
  "language_info": {
   "codemirror_mode": {
    "name": "ipython",
    "version": 3
   },
   "file_extension": ".py",
   "mimetype": "text/x-python",
   "name": "python",
   "nbconvert_exporter": "python",
   "pygments_lexer": "ipython3",
   "version": "3.8.5"
  }
 },
 "nbformat": 4,
 "nbformat_minor": 5
}

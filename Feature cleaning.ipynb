{
 "cells": [
  {
   "cell_type": "code",
   "execution_count": 1,
   "id": "0b7cc65d",
   "metadata": {},
   "outputs": [],
   "source": [
    "import pandas as pd\n",
    "import numpy as np\n",
    "import datetime\n",
    "import seaborn as sns\n",
    "import matplotlib.pyplot as plt"
   ]
  },
  {
   "cell_type": "code",
   "execution_count": null,
   "id": "24879f3a",
   "metadata": {},
   "outputs": [],
   "source": [
    "data[col] = data[col].fillna(\"None\")"
   ]
  },
  {
   "cell_type": "code",
   "execution_count": null,
   "id": "22be75f6-1bd7-4ac3-ab3c-cee102f0c9b9",
   "metadata": {},
   "outputs": [],
   "source": [
    "def date_transform(x):\n",
    "    try:\n",
    "        return dat.strptime(x,\"%d%b%Y:%H:%M:%S\")\n",
    "    except:\n",
    "        return  datetime.datetime(2025, 3, 5, 12, 30, 10)"
   ]
  }
 ],
 "metadata": {
  "kernelspec": {
   "display_name": "Python 3 (ipykernel)",
   "language": "python",
   "name": "python3"
  },
  "language_info": {
   "codemirror_mode": {
    "name": "ipython",
    "version": 3
   },
   "file_extension": ".py",
   "mimetype": "text/x-python",
   "name": "python",
   "nbconvert_exporter": "python",
   "pygments_lexer": "ipython3",
   "version": "3.9.9"
  }
 },
 "nbformat": 4,
 "nbformat_minor": 5
}

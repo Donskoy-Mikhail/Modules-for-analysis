{
 "cells": [
  {
   "cell_type": "code",
   "execution_count": 14,
   "id": "9282aef7",
   "metadata": {},
   "outputs": [],
   "source": [
    "import pandas as pd\n",
    "import numpy as np\n",
    "import datetime\n",
    "import seaborn as sns\n",
    "import matplotlib.pyplot as plt\n",
    "import matplotlib.pyplot as plt\n",
    "from scipy.stats import skew\n",
    "from sklearn.model_selection import train_test_split\n",
    "from sklearn.feature_extraction.text import TfidfTransformer, CountVectorizer, TfidfVectorizer\n",
    "from nltk.corpus import stopwords\n",
    "from nltk.stem import PorterStemmer\n",
    "import nltk\n",
    "import re\n",
    "import pymorphy2\n",
    "from scipy.stats.stats import pearsonr\n",
    "from sklearn.metrics import mean_squared_error, make_scorer"
   ]
  },
  {
   "cell_type": "code",
   "execution_count": 4,
   "id": "e911e944",
   "metadata": {},
   "outputs": [],
   "source": [
    "def combinations_two_features(df, couple_columns):\n",
    "    for couple in couple_columns:\n",
    "        df[couple[0] + \"*\" + couple[1]] = df[couple[0]] * df[couple[1]]\n",
    "    return df"
   ]
  },
  {
   "cell_type": "code",
   "execution_count": 5,
   "id": "db26fa13",
   "metadata": {},
   "outputs": [],
   "source": [
    "def polynomials(df, list_columns, degree):\n",
    "    for col in list_columns:\n",
    "        df[col + f\"_s{degree}\"] = df[col] * degree\n",
    "    return df"
   ]
  },
  {
   "cell_type": "code",
   "execution_count": 7,
   "id": "07ebc29f",
   "metadata": {},
   "outputs": [],
   "source": [
    "def log_skew_columns(data, col_list, skew_coef):\n",
    "    skewed_feats = data[col_list].apply(lambda x: skew(x.dropna())) #compute skewness\n",
    "    skewed_feats = skewed_feats[skewed_feats > skew_coef]\n",
    "    skewed_feats = skewed_feats.index\n",
    "    data[skewed_feats] = np.log1p(data[skewed_feats])\n",
    "    return data"
   ]
  },
  {
   "cell_type": "code",
   "execution_count": 13,
   "id": "b0c0a615",
   "metadata": {},
   "outputs": [],
   "source": [
    "def count_null_fields_tech(data,  cols, name_null_count = \"null_count\"):\n",
    "    data[name_null_count] = [0] * len(data)\n",
    "    \n",
    "    for col in cols:\n",
    "        data[name_null_count] =data[name_null_count] + data[col].apply(lambda x:  1 if pd.isna(x) else 0)  \n",
    "    return data"
   ]
  },
  {
   "cell_type": "code",
   "execution_count": null,
   "id": "214a2226",
   "metadata": {},
   "outputs": [],
   "source": []
  }
 ],
 "metadata": {
  "kernelspec": {
   "display_name": "Python 3 (ipykernel)",
   "language": "python",
   "name": "python3"
  },
  "language_info": {
   "codemirror_mode": {
    "name": "ipython",
    "version": 3
   },
   "file_extension": ".py",
   "mimetype": "text/x-python",
   "name": "python",
   "nbconvert_exporter": "python",
   "pygments_lexer": "ipython3",
   "version": "3.8.5"
  }
 },
 "nbformat": 4,
 "nbformat_minor": 5
}
